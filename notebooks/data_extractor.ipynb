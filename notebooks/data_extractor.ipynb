{
 "cells": [
  {
   "cell_type": "code",
   "execution_count": 1,
   "metadata": {},
   "outputs": [
    {
     "ename": "ValueError",
     "evalue": "Your API ID or Hash cannot be empty or None. Refer to telethon.rtfd.io for more information.",
     "output_type": "error",
     "traceback": [
      "\u001b[1;31m---------------------------------------------------------------------------\u001b[0m",
      "\u001b[1;31mValueError\u001b[0m                                Traceback (most recent call last)",
      "Cell \u001b[1;32mIn[1], line 29\u001b[0m\n\u001b[0;32m     26\u001b[0m         writer\u001b[38;5;241m.\u001b[39mwriterow([channel_title, channel_username, message\u001b[38;5;241m.\u001b[39mid, message\u001b[38;5;241m.\u001b[39mmessage, message\u001b[38;5;241m.\u001b[39mdate, media_path])\n\u001b[0;32m     28\u001b[0m \u001b[38;5;66;03m# Initialize the client once\u001b[39;00m\n\u001b[1;32m---> 29\u001b[0m client \u001b[38;5;241m=\u001b[39m \u001b[43mTelegramClient\u001b[49m\u001b[43m(\u001b[49m\u001b[38;5;124;43m'\u001b[39;49m\u001b[38;5;124;43mscraping_session\u001b[39;49m\u001b[38;5;124;43m'\u001b[39;49m\u001b[43m,\u001b[49m\u001b[43m \u001b[49m\u001b[43mapi_id\u001b[49m\u001b[43m,\u001b[49m\u001b[43m \u001b[49m\u001b[43mapi_hash\u001b[49m\u001b[43m)\u001b[49m\n\u001b[0;32m     31\u001b[0m \u001b[38;5;28;01masync\u001b[39;00m \u001b[38;5;28;01mdef\u001b[39;00m \u001b[38;5;21mmain\u001b[39m():\n\u001b[0;32m     32\u001b[0m     \u001b[38;5;28;01mawait\u001b[39;00m client\u001b[38;5;241m.\u001b[39mstart()\n",
      "File \u001b[1;32mc:\\week@5\\myven\\lib\\site-packages\\telethon\\client\\telegrambaseclient.py:267\u001b[0m, in \u001b[0;36mTelegramBaseClient.__init__\u001b[1;34m(self, session, api_id, api_hash, connection, use_ipv6, proxy, local_addr, timeout, request_retries, connection_retries, retry_delay, auto_reconnect, sequential_updates, flood_sleep_threshold, raise_last_call_error, device_model, system_version, app_version, lang_code, system_lang_code, loop, base_logger, receive_updates, catch_up, entity_cache_limit)\u001b[0m\n\u001b[0;32m    237\u001b[0m \u001b[38;5;28;01mdef\u001b[39;00m \u001b[38;5;21m__init__\u001b[39m(\n\u001b[0;32m    238\u001b[0m         \u001b[38;5;28mself\u001b[39m: \u001b[38;5;124m'\u001b[39m\u001b[38;5;124mTelegramClient\u001b[39m\u001b[38;5;124m'\u001b[39m,\n\u001b[0;32m    239\u001b[0m         session: \u001b[38;5;124m'\u001b[39m\u001b[38;5;124mtyping.Union[str, pathlib.Path, Session]\u001b[39m\u001b[38;5;124m'\u001b[39m,\n\u001b[1;32m   (...)\u001b[0m\n\u001b[0;32m    264\u001b[0m         entity_cache_limit: \u001b[38;5;28mint\u001b[39m \u001b[38;5;241m=\u001b[39m \u001b[38;5;241m5000\u001b[39m\n\u001b[0;32m    265\u001b[0m ):\n\u001b[0;32m    266\u001b[0m     \u001b[38;5;28;01mif\u001b[39;00m \u001b[38;5;129;01mnot\u001b[39;00m api_id \u001b[38;5;129;01mor\u001b[39;00m \u001b[38;5;129;01mnot\u001b[39;00m api_hash:\n\u001b[1;32m--> 267\u001b[0m         \u001b[38;5;28;01mraise\u001b[39;00m \u001b[38;5;167;01mValueError\u001b[39;00m(\n\u001b[0;32m    268\u001b[0m             \u001b[38;5;124m\"\u001b[39m\u001b[38;5;124mYour API ID or Hash cannot be empty or None. \u001b[39m\u001b[38;5;124m\"\u001b[39m\n\u001b[0;32m    269\u001b[0m             \u001b[38;5;124m\"\u001b[39m\u001b[38;5;124mRefer to telethon.rtfd.io for more information.\u001b[39m\u001b[38;5;124m\"\u001b[39m)\n\u001b[0;32m    271\u001b[0m     \u001b[38;5;28mself\u001b[39m\u001b[38;5;241m.\u001b[39m_use_ipv6 \u001b[38;5;241m=\u001b[39m use_ipv6\n\u001b[0;32m    273\u001b[0m     \u001b[38;5;28;01mif\u001b[39;00m \u001b[38;5;28misinstance\u001b[39m(base_logger, \u001b[38;5;28mstr\u001b[39m):\n",
      "\u001b[1;31mValueError\u001b[0m: Your API ID or Hash cannot be empty or None. Refer to telethon.rtfd.io for more information."
     ]
    }
   ],
   "source": [
    "from telethon import TelegramClient\n",
    "import csv\n",
    "import os\n",
    "from dotenv import load_dotenv\n",
    "\n",
    "# Load environment variables once\n",
    "load_dotenv('.env')\n",
    "api_id = os.getenv('29256575')\n",
    "api_hash = os.getenv('0d56f14d00f288928f28a53baa3e1298')\n",
    "phone = os.getenv('251911834030')\n",
    "\n",
    "# Function to scrape data from a single channel\n",
    "async def scrape_channel(client, channel_username, writer, media_dir):\n",
    "    entity = await client.get_entity(channel_username)\n",
    "    channel_title = entity.title  # Extract the channel's title\n",
    "    async for message in client.iter_messages(entity, limit=10000):\n",
    "        media_path = None\n",
    "        if message.media and hasattr(message.media, 'photo'):\n",
    "            # Create a unique filename for the photo\n",
    "            filename = f\"{channel_username}_{message.id}.jpg\"\n",
    "            media_path = os.path.join(media_dir, filename)\n",
    "            # Download the media to the specified directory if it's a photo\n",
    "            await client.download_media(message.media, media_path)\n",
    "        \n",
    "        # Write the channel title along with other data\n",
    "        writer.writerow([channel_title, channel_username, message.id, message.message, message.date, media_path])\n",
    "\n",
    "# Initialize the client once\n",
    "client = TelegramClient('scraping_session', api_id, api_hash)\n",
    "\n",
    "async def main():\n",
    "    await client.start()\n",
    "    \n",
    "    # Create a directory for media files\n",
    "    media_dir = 'photos'\n",
    "    os.makedirs(media_dir, exist_ok=True)\n",
    "\n",
    "    # Open the CSV file and prepare the writer\n",
    "    with open('telegram_data.csv', 'w', newline='', encoding='utf-8') as file:\n",
    "        writer = csv.writer(file)\n",
    "        writer.writerow(['Channel Title', 'Channel Username', 'ID', 'Message', 'Date', 'Media Path'])  # Include channel title in the header\n",
    "        \n",
    "        # List of channels to scrape\n",
    "        channels = [\n",
    "            '@Shageronlinestore',  # Existing channel\n",
    "                 # You can add more channels here\n",
    "            \n",
    "        ]\n",
    "        \n",
    "        # Iterate over channels and scrape data into the single CSV file\n",
    "        for channel in channels:\n",
    "            await scrape_channel(client, channel, writer, media_dir)\n",
    "            print(f\"Scraped data from {channel}\")\n",
    "\n",
    "with client:\n",
    "    client.loop.run_until_complete(main())"
   ]
  }
 ],
 "metadata": {
  "kernelspec": {
   "display_name": "myven",
   "language": "python",
   "name": "python3"
  },
  "language_info": {
   "codemirror_mode": {
    "name": "ipython",
    "version": 3
   },
   "file_extension": ".py",
   "mimetype": "text/x-python",
   "name": "python",
   "nbconvert_exporter": "python",
   "pygments_lexer": "ipython3",
   "version": "3.10.8"
  }
 },
 "nbformat": 4,
 "nbformat_minor": 2
}
